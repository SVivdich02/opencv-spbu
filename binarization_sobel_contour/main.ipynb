{
 "cells": [
  {
   "cell_type": "code",
   "execution_count": 1,
   "metadata": {},
   "outputs": [],
   "source": [
    "# задание:\n",
    "# найти контуры на изображении, применив фильтр Собеля"
   ]
  },
  {
   "cell_type": "code",
   "execution_count": 2,
   "metadata": {},
   "outputs": [
    {
     "data": {
      "text/plain": [
       "True"
      ]
     },
     "execution_count": 2,
     "metadata": {},
     "output_type": "execute_result"
    }
   ],
   "source": [
    "import cv2\n",
    "import numpy as np\n",
    "\n",
    "src_image = cv2.imread('src_image.jpeg')\n",
    "src_image = cv2.cvtColor(src_image, cv2.COLOR_BGR2GRAY)\n",
    "\n",
    "sobelx = cv2.Sobel(src_image, cv2.CV_64F, 1, 0, ksize=3)\n",
    "sobely = cv2.Sobel(src_image, cv2.CV_64F, 0, 1, ksize=3)\n",
    "sobel_res = np.uint8(np.sqrt(np.square(sobelx) + np.square(sobely)))\n",
    "\n",
    "threshold_1 = 80\n",
    "threshold_2 = 255\n",
    "\n",
    "_, bin_image = cv2.threshold(sobel_res, threshold_1, threshold_2, cv2.THRESH_BINARY)\n",
    "\n",
    "contours, _ = cv2.findContours(bin_image, cv2.RETR_EXTERNAL, cv2.CHAIN_APPROX_SIMPLE)\n",
    "\n",
    "result_image = cv2.cvtColor(bin_image, cv2.COLOR_GRAY2BGR)\n",
    "result_image = cv2.drawContours(result_image, contours, -1, (0, 255, 0), 2)\n",
    "cv2.imwrite('result_image.jpeg', result_image)"
   ]
  },
  {
   "cell_type": "code",
   "execution_count": null,
   "metadata": {},
   "outputs": [],
   "source": []
  }
 ],
 "metadata": {
  "kernelspec": {
   "display_name": "Python 3",
   "language": "python",
   "name": "python3"
  },
  "language_info": {
   "codemirror_mode": {
    "name": "ipython",
    "version": 3
   },
   "file_extension": ".py",
   "mimetype": "text/x-python",
   "name": "python",
   "nbconvert_exporter": "python",
   "pygments_lexer": "ipython3",
   "version": "3.9.6"
  },
  "orig_nbformat": 4
 },
 "nbformat": 4,
 "nbformat_minor": 2
}
