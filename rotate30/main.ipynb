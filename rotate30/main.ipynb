{
 "cells": [
  {
   "cell_type": "code",
   "execution_count": 1,
   "metadata": {},
   "outputs": [],
   "source": [
    "# задание:\n",
    "# повернуть изображение на 30 градусов вокруг заданной точки"
   ]
  },
  {
   "cell_type": "code",
   "execution_count": 2,
   "metadata": {},
   "outputs": [
    {
     "data": {
      "text/plain": [
       "True"
      ]
     },
     "execution_count": 2,
     "metadata": {},
     "output_type": "execute_result"
    }
   ],
   "source": [
    "import cv2\n",
    "\n",
    "# угол поворота\n",
    "angle = 30\n",
    "\n",
    "src_image = cv2.imread('src_image.jpeg')\n",
    "height, width = src_image.shape[:2]\n",
    "\n",
    "# точка, вокруг которой будем выполнять поворот\n",
    "point_x = width // 4\n",
    "point_y = height // 4\n",
    "\n",
    "# для наглядности выделяем точку поворота черной рамкой\n",
    "box_size = 10\n",
    "top_left = (point_x - box_size // 2, point_y - box_size // 2)\n",
    "bottom_right = (point_x + box_size // 2, point_y + box_size // 2)\n",
    "cv2.rectangle(src_image, top_left, bottom_right, (0, 0, 0), 2)\n",
    "cv2.imwrite('src_box_point.jpeg', src_image)\n",
    "\n",
    "translation_matrix = cv2.getRotationMatrix2D((point_x, point_y), angle, 1.0)\n",
    "\n",
    "result_image = cv2.warpAffine(src_image, translation_matrix, dsize=(width, height))\n",
    "\n",
    "cv2.imwrite('result_image.jpeg', result_image)"
   ]
  },
  {
   "cell_type": "code",
   "execution_count": null,
   "metadata": {},
   "outputs": [],
   "source": []
  }
 ],
 "metadata": {
  "kernelspec": {
   "display_name": "Python 3",
   "language": "python",
   "name": "python3"
  },
  "language_info": {
   "codemirror_mode": {
    "name": "ipython",
    "version": 3
   },
   "file_extension": ".py",
   "mimetype": "text/x-python",
   "name": "python",
   "nbconvert_exporter": "python",
   "pygments_lexer": "ipython3",
   "version": "3.9.6"
  },
  "orig_nbformat": 4
 },
 "nbformat": 4,
 "nbformat_minor": 2
}
